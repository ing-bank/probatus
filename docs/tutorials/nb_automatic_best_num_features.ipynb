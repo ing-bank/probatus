{
 "cells": [
  {
   "cell_type": "markdown",
   "id": "ee10c7aa",
   "metadata": {},
   "source": [
    "# Automatic num_feature selection techniques"
   ]
  },
  {
   "cell_type": "code",
   "execution_count": 8,
   "id": "36f33326",
   "metadata": {},
   "outputs": [],
   "source": [
    "from probatus.feature_elimination import ShapRFECV\n",
    "from sklearn.datasets import make_classification\n",
    "from sklearn.model_selection import train_test_split\n",
    "from catboost import CatBoostClassifier"
   ]
  },
  {
   "cell_type": "markdown",
   "id": "9e1bf696",
   "metadata": {},
   "source": [
    "### Basic example of ShapRFECV"
   ]
  },
  {
   "cell_type": "code",
   "execution_count": 10,
   "id": "4dd0518b",
   "metadata": {},
   "outputs": [
    {
     "name": "stderr",
     "output_type": "stream",
     "text": [
      "The default dtype for empty Series will be 'object' instead of 'float64' in a future version. Specify a dtype explicitly to silence this warning.\n"
     ]
    }
   ],
   "source": [
    "# Simple ShapRFECV example\n",
    "X, y = make_classification(n_samples=1000, n_informative=20, n_features=100)\n",
    "clf = CatBoostClassifier(n_estimators=1000, verbose=0)\n",
    "shap_elimination = ShapRFECV(clf, step=0.2, min_features_to_select=5, cv=5, scoring=\"f1\")\n",
    "report = shap_elimination.fit_compute(X, y)"
   ]
  },
  {
   "cell_type": "code",
   "execution_count": 15,
   "id": "ea9368c4",
   "metadata": {},
   "outputs": [
    {
     "data": {
      "text/html": [
       "<div>\n",
       "<style scoped>\n",
       "    .dataframe tbody tr th:only-of-type {\n",
       "        vertical-align: middle;\n",
       "    }\n",
       "\n",
       "    .dataframe tbody tr th {\n",
       "        vertical-align: top;\n",
       "    }\n",
       "\n",
       "    .dataframe thead th {\n",
       "        text-align: right;\n",
       "    }\n",
       "</style>\n",
       "<table border=\"1\" class=\"dataframe\">\n",
       "  <thead>\n",
       "    <tr style=\"text-align: right;\">\n",
       "      <th></th>\n",
       "      <th>num_features</th>\n",
       "      <th>features_set</th>\n",
       "      <th>eliminated_features</th>\n",
       "      <th>train_metric_mean</th>\n",
       "      <th>train_metric_std</th>\n",
       "      <th>val_metric_mean</th>\n",
       "      <th>val_metric_std</th>\n",
       "    </tr>\n",
       "  </thead>\n",
       "  <tbody>\n",
       "    <tr>\n",
       "      <th>1</th>\n",
       "      <td>100</td>\n",
       "      <td>[0, 1, 2, 3, 4, 5, 6, 7, 8, 9, 10, 11, 12, 13,...</td>\n",
       "      <td>[95, 39, 36, 75, 91, 5, 86, 44, 93, 38, 58, 88...</td>\n",
       "      <td>1.000</td>\n",
       "      <td>0.000</td>\n",
       "      <td>0.893</td>\n",
       "      <td>0.029</td>\n",
       "    </tr>\n",
       "    <tr>\n",
       "      <th>2</th>\n",
       "      <td>80</td>\n",
       "      <td>[0, 1, 3, 4, 6, 7, 8, 9, 10, 11, 13, 14, 16, 1...</td>\n",
       "      <td>[8, 47, 83, 25, 70, 35, 10, 32, 37, 14, 85, 61...</td>\n",
       "      <td>1.000</td>\n",
       "      <td>0.000</td>\n",
       "      <td>0.887</td>\n",
       "      <td>0.025</td>\n",
       "    </tr>\n",
       "    <tr>\n",
       "      <th>3</th>\n",
       "      <td>64</td>\n",
       "      <td>[0, 1, 3, 4, 6, 7, 9, 11, 13, 16, 17, 18, 19, ...</td>\n",
       "      <td>[76, 3, 71, 24, 52, 22, 4, 11, 31, 73, 40, 94]</td>\n",
       "      <td>1.000</td>\n",
       "      <td>0.000</td>\n",
       "      <td>0.898</td>\n",
       "      <td>0.027</td>\n",
       "    </tr>\n",
       "    <tr>\n",
       "      <th>4</th>\n",
       "      <td>52</td>\n",
       "      <td>[0, 1, 6, 7, 9, 13, 16, 17, 18, 19, 20, 21, 23...</td>\n",
       "      <td>[42, 67, 43, 78, 20, 72, 21, 59, 23, 50]</td>\n",
       "      <td>1.000</td>\n",
       "      <td>0.000</td>\n",
       "      <td>0.906</td>\n",
       "      <td>0.019</td>\n",
       "    </tr>\n",
       "    <tr>\n",
       "      <th>5</th>\n",
       "      <td>42</td>\n",
       "      <td>[0, 1, 6, 7, 9, 13, 16, 17, 18, 19, 26, 27, 28...</td>\n",
       "      <td>[79, 82, 18, 49, 9, 57, 30, 80]</td>\n",
       "      <td>1.000</td>\n",
       "      <td>0.001</td>\n",
       "      <td>0.916</td>\n",
       "      <td>0.021</td>\n",
       "    </tr>\n",
       "    <tr>\n",
       "      <th>6</th>\n",
       "      <td>34</td>\n",
       "      <td>[0, 1, 6, 7, 13, 16, 17, 19, 26, 27, 28, 33, 3...</td>\n",
       "      <td>[56, 26, 74, 99, 87, 6]</td>\n",
       "      <td>1.000</td>\n",
       "      <td>0.001</td>\n",
       "      <td>0.918</td>\n",
       "      <td>0.021</td>\n",
       "    </tr>\n",
       "    <tr>\n",
       "      <th>7</th>\n",
       "      <td>28</td>\n",
       "      <td>[0, 1, 7, 13, 16, 17, 19, 27, 28, 33, 34, 41, ...</td>\n",
       "      <td>[53, 60, 1, 41, 90]</td>\n",
       "      <td>0.999</td>\n",
       "      <td>0.000</td>\n",
       "      <td>0.919</td>\n",
       "      <td>0.013</td>\n",
       "    </tr>\n",
       "    <tr>\n",
       "      <th>8</th>\n",
       "      <td>23</td>\n",
       "      <td>[0, 7, 13, 16, 17, 19, 27, 28, 33, 34, 45, 46,...</td>\n",
       "      <td>[68, 17, 27, 51]</td>\n",
       "      <td>0.999</td>\n",
       "      <td>0.000</td>\n",
       "      <td>0.921</td>\n",
       "      <td>0.016</td>\n",
       "    </tr>\n",
       "    <tr>\n",
       "      <th>9</th>\n",
       "      <td>19</td>\n",
       "      <td>[0, 7, 13, 16, 19, 28, 33, 34, 45, 46, 48, 54,...</td>\n",
       "      <td>[45, 13, 81]</td>\n",
       "      <td>0.998</td>\n",
       "      <td>0.001</td>\n",
       "      <td>0.912</td>\n",
       "      <td>0.017</td>\n",
       "    </tr>\n",
       "    <tr>\n",
       "      <th>10</th>\n",
       "      <td>16</td>\n",
       "      <td>[0, 7, 16, 19, 28, 33, 34, 46, 48, 54, 55, 64,...</td>\n",
       "      <td>[54, 16, 46]</td>\n",
       "      <td>0.998</td>\n",
       "      <td>0.001</td>\n",
       "      <td>0.906</td>\n",
       "      <td>0.024</td>\n",
       "    </tr>\n",
       "    <tr>\n",
       "      <th>11</th>\n",
       "      <td>13</td>\n",
       "      <td>[0, 7, 19, 28, 33, 34, 48, 55, 64, 69, 77, 96,...</td>\n",
       "      <td>[19, 0]</td>\n",
       "      <td>0.997</td>\n",
       "      <td>0.001</td>\n",
       "      <td>0.895</td>\n",
       "      <td>0.031</td>\n",
       "    </tr>\n",
       "    <tr>\n",
       "      <th>12</th>\n",
       "      <td>11</td>\n",
       "      <td>[7, 28, 33, 34, 48, 55, 64, 69, 77, 96, 98]</td>\n",
       "      <td>[64, 77]</td>\n",
       "      <td>0.995</td>\n",
       "      <td>0.001</td>\n",
       "      <td>0.887</td>\n",
       "      <td>0.025</td>\n",
       "    </tr>\n",
       "    <tr>\n",
       "      <th>13</th>\n",
       "      <td>9</td>\n",
       "      <td>[7, 28, 33, 34, 48, 55, 69, 96, 98]</td>\n",
       "      <td>[48]</td>\n",
       "      <td>0.989</td>\n",
       "      <td>0.003</td>\n",
       "      <td>0.886</td>\n",
       "      <td>0.015</td>\n",
       "    </tr>\n",
       "    <tr>\n",
       "      <th>14</th>\n",
       "      <td>8</td>\n",
       "      <td>[7, 28, 33, 34, 55, 69, 96, 98]</td>\n",
       "      <td>[96]</td>\n",
       "      <td>0.985</td>\n",
       "      <td>0.003</td>\n",
       "      <td>0.864</td>\n",
       "      <td>0.013</td>\n",
       "    </tr>\n",
       "    <tr>\n",
       "      <th>15</th>\n",
       "      <td>7</td>\n",
       "      <td>[7, 28, 33, 34, 55, 69, 98]</td>\n",
       "      <td>[33]</td>\n",
       "      <td>0.982</td>\n",
       "      <td>0.004</td>\n",
       "      <td>0.860</td>\n",
       "      <td>0.024</td>\n",
       "    </tr>\n",
       "    <tr>\n",
       "      <th>16</th>\n",
       "      <td>6</td>\n",
       "      <td>[7, 28, 34, 55, 69, 98]</td>\n",
       "      <td>[98]</td>\n",
       "      <td>0.962</td>\n",
       "      <td>0.004</td>\n",
       "      <td>0.848</td>\n",
       "      <td>0.016</td>\n",
       "    </tr>\n",
       "    <tr>\n",
       "      <th>17</th>\n",
       "      <td>5</td>\n",
       "      <td>[7, 28, 34, 55, 69]</td>\n",
       "      <td>[]</td>\n",
       "      <td>0.937</td>\n",
       "      <td>0.005</td>\n",
       "      <td>0.820</td>\n",
       "      <td>0.026</td>\n",
       "    </tr>\n",
       "  </tbody>\n",
       "</table>\n",
       "</div>"
      ],
      "text/plain": [
       "    num_features                                       features_set  \\\n",
       "1            100  [0, 1, 2, 3, 4, 5, 6, 7, 8, 9, 10, 11, 12, 13,...   \n",
       "2             80  [0, 1, 3, 4, 6, 7, 8, 9, 10, 11, 13, 14, 16, 1...   \n",
       "3             64  [0, 1, 3, 4, 6, 7, 9, 11, 13, 16, 17, 18, 19, ...   \n",
       "4             52  [0, 1, 6, 7, 9, 13, 16, 17, 18, 19, 20, 21, 23...   \n",
       "5             42  [0, 1, 6, 7, 9, 13, 16, 17, 18, 19, 26, 27, 28...   \n",
       "6             34  [0, 1, 6, 7, 13, 16, 17, 19, 26, 27, 28, 33, 3...   \n",
       "7             28  [0, 1, 7, 13, 16, 17, 19, 27, 28, 33, 34, 41, ...   \n",
       "8             23  [0, 7, 13, 16, 17, 19, 27, 28, 33, 34, 45, 46,...   \n",
       "9             19  [0, 7, 13, 16, 19, 28, 33, 34, 45, 46, 48, 54,...   \n",
       "10            16  [0, 7, 16, 19, 28, 33, 34, 46, 48, 54, 55, 64,...   \n",
       "11            13  [0, 7, 19, 28, 33, 34, 48, 55, 64, 69, 77, 96,...   \n",
       "12            11        [7, 28, 33, 34, 48, 55, 64, 69, 77, 96, 98]   \n",
       "13             9                [7, 28, 33, 34, 48, 55, 69, 96, 98]   \n",
       "14             8                    [7, 28, 33, 34, 55, 69, 96, 98]   \n",
       "15             7                        [7, 28, 33, 34, 55, 69, 98]   \n",
       "16             6                            [7, 28, 34, 55, 69, 98]   \n",
       "17             5                                [7, 28, 34, 55, 69]   \n",
       "\n",
       "                                  eliminated_features  train_metric_mean  \\\n",
       "1   [95, 39, 36, 75, 91, 5, 86, 44, 93, 38, 58, 88...              1.000   \n",
       "2   [8, 47, 83, 25, 70, 35, 10, 32, 37, 14, 85, 61...              1.000   \n",
       "3      [76, 3, 71, 24, 52, 22, 4, 11, 31, 73, 40, 94]              1.000   \n",
       "4            [42, 67, 43, 78, 20, 72, 21, 59, 23, 50]              1.000   \n",
       "5                     [79, 82, 18, 49, 9, 57, 30, 80]              1.000   \n",
       "6                             [56, 26, 74, 99, 87, 6]              1.000   \n",
       "7                                 [53, 60, 1, 41, 90]              0.999   \n",
       "8                                    [68, 17, 27, 51]              0.999   \n",
       "9                                        [45, 13, 81]              0.998   \n",
       "10                                       [54, 16, 46]              0.998   \n",
       "11                                            [19, 0]              0.997   \n",
       "12                                           [64, 77]              0.995   \n",
       "13                                               [48]              0.989   \n",
       "14                                               [96]              0.985   \n",
       "15                                               [33]              0.982   \n",
       "16                                               [98]              0.962   \n",
       "17                                                 []              0.937   \n",
       "\n",
       "    train_metric_std  val_metric_mean  val_metric_std  \n",
       "1              0.000            0.893           0.029  \n",
       "2              0.000            0.887           0.025  \n",
       "3              0.000            0.898           0.027  \n",
       "4              0.000            0.906           0.019  \n",
       "5              0.001            0.916           0.021  \n",
       "6              0.001            0.918           0.021  \n",
       "7              0.000            0.919           0.013  \n",
       "8              0.000            0.921           0.016  \n",
       "9              0.001            0.912           0.017  \n",
       "10             0.001            0.906           0.024  \n",
       "11             0.001            0.895           0.031  \n",
       "12             0.001            0.887           0.025  \n",
       "13             0.003            0.886           0.015  \n",
       "14             0.003            0.864           0.013  \n",
       "15             0.004            0.860           0.024  \n",
       "16             0.004            0.848           0.016  \n",
       "17             0.005            0.820           0.026  "
      ]
     },
     "execution_count": 15,
     "metadata": {},
     "output_type": "execute_result"
    }
   ],
   "source": [
    "# Inspect the report generated by ShapRFECV\n",
    "# Can you find the best iteration? Look at `train_metric_mean`.\n",
    "report"
   ]
  },
  {
   "cell_type": "code",
   "execution_count": 17,
   "id": "a92951f4",
   "metadata": {
    "scrolled": false
   },
   "outputs": [
    {
     "data": {
      "image/png": "[encoded data removed]",
      "text/plain": [
       "<Figure size 640x480 with 1 Axes>"
      ]
     },
     "metadata": {},
     "output_type": "display_data"
    },
    {
     "data": {
      "text/plain": [
       "<AxesSubplot: title={'center': 'Backwards Feature Elimination using SHAP & CV'}, xlabel='Number of features', ylabel='Performance f1'>"
      ]
     },
     "execution_count": 17,
     "metadata": {},
     "output_type": "execute_result"
    }
   ],
   "source": [
    "# We can visually inspect the report and try identify the best iteration\n",
    "shap_elimination.plot()"
   ]
  },
  {
   "cell_type": "code",
   "execution_count": 16,
   "id": "44d2d2a0",
   "metadata": {},
   "outputs": [
    {
     "data": {
      "text/plain": [
       "array([ 0,  7, 13, 16, 17, 19, 27, 28, 33, 34, 45, 46, 48, 51, 54, 55, 64,\n",
       "       68, 69, 77, 81, 96, 98])"
      ]
     },
     "execution_count": 16,
     "metadata": {},
     "output_type": "execute_result"
    }
   ],
   "source": [
    "# Once we have identified which iteration was best, we can get the feature names by:\n",
    "shap_elimination.get_reduced_features_set(num_features=23)"
   ]
  },
  {
   "cell_type": "markdown",
   "id": "4b7fd3b0",
   "metadata": {},
   "source": [
    "# But, is there a more automated way of selecting \"best\" features?\n",
    "\n",
    "Yes, probatus support a few strategies for selecting the best `num_features` for your needs.\n",
    "\n",
    "Before we jump into these automated techniques, there are a number of factors you might want to consider when selecting the best iteration:\n",
    "1. **Model performance score:** Most people will care about this the most. You'll try to maximize a score like f1 or accuracy or ROC_AUC. But there are more factors to consider...\n",
    "2. **Variance of model performance:** If your model performance scores vary considerably across cross validation folds, it might be a sign that your model is not generalizing well. Some people may want to ensure model performance standard deviation is also minimized.\n",
    "3. **Number of features:** You might want to keep the number of features to a minimum (smaller model, siplier data pipeline, easier to explain model)\n",
    "\n",
    "To accomodate some of the above needs, probatus supports automated strategies to select the best \"num_features\". Strategies supported are:\n",
    "1. **num_features=\"best\":** If what you care about is maximizing `val_metric_mean` (model performance score), this strategy is for you.\n",
    "2. **num_features=\"best_coherent\":** If you care about high model performance whilst also minimizing variation of model performance between cross validation folds, this strategy is for you.\n",
    "3. **num_features=\"best_parsimonious\":** If you care about high model performance whilst also minimizing the number of features selected, this model is for you."
   ]
  },
  {
   "cell_type": "code",
   "execution_count": 21,
   "id": "066e84dd",
   "metadata": {},
   "outputs": [
    {
     "name": "stdout",
     "output_type": "stream",
     "text": [
      "The 23 best features are: [ 0  7 13 16 17 19 27 28 33 34 45 46 48 51 54 55 64 68 69 77 81 96 98]\n"
     ]
    }
   ],
   "source": [
    "# Best\n",
    "best_features = shap_elimination.get_reduced_features_set(num_features=\"best\")\n",
    "print(f\"The {len(best_features)} best features are: {best_features}\")"
   ]
  },
  {
   "cell_type": "code",
   "execution_count": 24,
   "id": "61eb0b38",
   "metadata": {},
   "outputs": [
    {
     "name": "stdout",
     "output_type": "stream",
     "text": [
      "The 28 best coherent features are: [ 0  1  7 13 16 17 19 27 28 33 34 41 45 46 48 51 53 54 55 60 64 68 69 77\n",
      " 81 90 96 98]\n"
     ]
    }
   ],
   "source": [
    "# Best coherent\n",
    "best_features = shap_elimination.get_reduced_features_set(num_features=\"best_coherent\")\n",
    "print(f\"The {len(best_features)} best coherent features are: {best_features}\")"
   ]
  },
  {
   "cell_type": "code",
   "execution_count": 25,
   "id": "4e86fd86",
   "metadata": {},
   "outputs": [
    {
     "name": "stdout",
     "output_type": "stream",
     "text": [
      "The 16 best parsimonious features are: [ 0  7 16 19 28 33 34 46 48 54 55 64 69 77 96 98]\n"
     ]
    }
   ],
   "source": [
    "# Best parsimonious\n",
    "best_features = shap_elimination.get_reduced_features_set(num_features=\"best_parsimonious\")\n",
    "print(f\"The {len(best_features)} best parsimonious features are: {best_features}\")"
   ]
  },
  {
   "cell_type": "code",
   "execution_count": 27,
   "id": "38ee4361",
   "metadata": {},
   "outputs": [
    {
     "name": "stdout",
     "output_type": "stream",
     "text": [
      "The 23 best coherent features are: [ 0  7 13 16 17 19 27 28 33 34 45 46 48 51 54 55 64 68 69 77 81 96 98]\n"
     ]
    }
   ],
   "source": [
    "# Note, you can change the behavior of `best_coherent` and `best_parsimonious` by changing the `standard_error_threshold` parameter\n",
    "# Best coherent (standard_error_threshold=0.5)\n",
    "best_features = shap_elimination.get_reduced_features_set(\n",
    "    num_features=\"best_parsimonious\", standard_error_threshold=0.5\n",
    ")\n",
    "print(f\"The {len(best_features)} best coherent features are: {best_features}\")"
   ]
  },
  {
   "cell_type": "markdown",
   "id": "f5393b36",
   "metadata": {},
   "source": [
    "# Support & Ranking\n",
    "In alignment with the sklearn implementation of RFECV, you can get `support` and `ranking` output from ShapRFECV. "
   ]
  },
  {
   "cell_type": "code",
   "execution_count": 28,
   "id": "15ce1bc2",
   "metadata": {},
   "outputs": [
    {
     "name": "stdout",
     "output_type": "stream",
     "text": [
      "The 23 best features are: [ 0  7 13 16 17 19 27 28 33 34 45 46 48 51 54 55 64 68 69 77 81 96 98]\n",
      "Support boolean mask: [True, False, False, False, False, False, False, True, False, False, False, False, False, True, False, False, True, True, False, True, False, False, False, False, False, False, False, True, True, False, False, False, False, True, True, False, False, False, False, False, False, False, False, False, False, True, True, False, True, False, False, True, False, False, True, True, False, False, False, False, False, False, False, False, True, False, False, False, True, True, False, False, False, False, False, False, False, True, False, False, False, True, False, False, False, False, False, False, False, False, False, False, False, False, False, False, True, False, True, False]\n",
      "Ranking: [8, 21, 91, 49, 54, 81, 29, 0, 60, 34, 66, 55, 92, 13, 69, 90, 10, 16, 32, 7, 42, 44, 53, 46, 51, 63, 25, 17, 0, 89, 36, 56, 67, 2, 0, 65, 78, 68, 85, 77, 58, 22, 38, 40, 83, 12, 11, 61, 4, 33, 47, 18, 52, 19, 9, 0, 24, 35, 86, 45, 20, 71, 88, 74, 5, 73, 75, 39, 15, 0, 64, 50, 43, 57, 26, 79, 48, 6, 41, 30, 37, 14, 31, 62, 72, 70, 82, 28, 87, 93, 23, 80, 95, 84, 59, 76, 3, 94, 1, 27]\n"
     ]
    }
   ],
   "source": [
    "# Get support (boolean mask of X feature columns)\n",
    "best_features = shap_elimination.get_reduced_features_set(num_features=\"best\", return_type=\"feature_names\")\n",
    "best_features_support = shap_elimination.get_reduced_features_set(num_features=\"best\", return_type=\"support\")\n",
    "best_features_ranking = shap_elimination.get_reduced_features_set(num_features=\"best\", return_type=\"ranking\")\n",
    "print(f\"The {len(best_features)} best features are: {best_features}\")\n",
    "print(f\"Support boolean mask: {best_features_support}\")\n",
    "print(f\"Ranking: {best_features_ranking}\")"
   ]
  }
 ],
 "metadata": {
  "kernelspec": {
   "display_name": ".env",
   "language": "python",
   "name": ".env"
  },
  "language_info": {
   "codemirror_mode": {
    "name": "ipython",
    "version": 3
   },
   "file_extension": ".py",
   "mimetype": "text/x-python",
   "name": "python",
   "nbconvert_exporter": "python",
   "pygments_lexer": "ipython3",
   "version": "3.10.9"
  }
 },
 "nbformat": 4,
 "nbformat_minor": 5
}
