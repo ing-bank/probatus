{
 "cells": [
  {
   "cell_type": "markdown",
   "metadata": {},
   "source": [
    "# Imputation Comparison\n",
    "\n",
    "[![open in colab](https://colab.research.google.com/assets/colab-badge.svg)](https://colab.research.google.com/github/ing-bank/probatus/blob/master/docs/tutorials/nb_imputation_comparison.ipynb)"
   ]
  },
  {
   "cell_type": "markdown",
   "metadata": {},
   "source": [
    "This notebook explains how the `ImputationSelector` class works in `probatus`. With `ImputationSelector` you can compare multiple imputation strategies\n",
    "and choose a strategy which works the best for a given model and a dataset.\n",
    "Currently `ImputationSelector` supports any [scikit-learn](https://scikit-learn.org/stable/) compatible imputation strategy. For categorical variables the missing values are replaced by a `missing` token and `OneHotEncoder` is applied. The user-supplied imputation strategies are applied to numerical columns only. \n",
    "Support for user-supplied imputation strategies for categorical columns can be added in the future releases.\n",
    "\n",
    "Let us look at an example and start by importing all the required classes and methods.\n",
    "\n"
   ]
  },
  {
   "cell_type": "code",
   "execution_count": 1,
   "metadata": {},
   "outputs": [],
   "source": [
    "###Install the packages\n",
    "# %%capture\n",
    "#!pip install probatus\n",
    "#!pip install lightgbm"
   ]
  },
  {
   "cell_type": "code",
   "execution_count": 3,
   "metadata": {},
   "outputs": [
    {
     "name": "stdout",
     "output_type": "stream",
     "text": [
      "The autoreload extension is already loaded. To reload it, use:\n",
      "  %reload_ext autoreload\n"
     ]
    },
    {
     "name": "stderr",
     "output_type": "stream",
     "text": [
      "Using `tqdm.autonotebook.tqdm` in notebook mode. Use `tqdm.tqdm` instead to force console mode (e.g. in jupyter console)\n"
     ]
    }
   ],
   "source": [
    "%matplotlib inline\n",
    "%load_ext autoreload\n",
    "%autoreload 2\n",
    "import pandas as pd\n",
    "\n",
    "pd.set_option(\"display.max_columns\", 100)\n",
    "pd.set_option(\"display.max_row\", 500)\n",
    "pd.set_option(\"display.max_colwidth\", 200)\n",
    "import lightgbm as lgb\n",
    "from sklearn.datasets import make_classification\n",
    "from sklearn.experimental import enable_iterative_imputer\n",
    "\n",
    "from sklearn.impute import IterativeImputer, KNNImputer, SimpleImputer\n",
    "from sklearn.linear_model import LogisticRegression\n",
    "\n",
    "from probatus.missing_values.imputation import ImputationSelector\n",
    "from probatus.utils.missing_helpers import generate_MCAR"
   ]
  },
  {
   "cell_type": "markdown",
   "metadata": {},
   "source": [
    "Let's create a classification dataset to apply the various imputation strategies.\n",
    "\n",
    "We'll use the `probatus.utils.missing_helpers.generate_MCAR` function to randomly add missing values to the dataset."
   ]
  },
  {
   "cell_type": "code",
   "execution_count": 4,
   "metadata": {},
   "outputs": [
    {
     "name": "stdout",
     "output_type": "stream",
     "text": [
      "Shape of X,y : (2000, 20),(2000,)\n"
     ]
    }
   ],
   "source": [
    "n_features = 20\n",
    "X, y = make_classification(n_samples=2000, n_features=n_features, random_state=123, class_sep=0.3)\n",
    "X = pd.DataFrame(X, columns=[\"f_\" + str(i) for i in range(0, n_features)])\n",
    "print(f\"Shape of X,y : {X.shape},{y.shape}\")"
   ]
  },
  {
   "cell_type": "code",
   "execution_count": 5,
   "metadata": {},
   "outputs": [
    {
     "ename": "ValueError",
     "evalue": "Shape of passed values is (20, 1), indices imply (20, 0)",
     "output_type": "error",
     "traceback": [
      "\u001b[0;31m---------------------------------------------------------------------------\u001b[0m",
      "\u001b[0;31mValueError\u001b[0m                                Traceback (most recent call last)",
      "Cell \u001b[0;32mIn[5], line 2\u001b[0m\n\u001b[1;32m      1\u001b[0m X_missing \u001b[38;5;241m=\u001b[39m generate_MCAR(X, missing\u001b[38;5;241m=\u001b[39m\u001b[38;5;241m0.2\u001b[39m)\n\u001b[0;32m----> 2\u001b[0m missing_stats \u001b[38;5;241m=\u001b[39m \u001b[43mpd\u001b[49m\u001b[38;5;241;43m.\u001b[39;49m\u001b[43mDataFrame\u001b[49m\u001b[43m(\u001b[49m\u001b[43mX_missing\u001b[49m\u001b[38;5;241;43m.\u001b[39;49m\u001b[43misnull\u001b[49m\u001b[43m(\u001b[49m\u001b[43m)\u001b[49m\u001b[38;5;241;43m.\u001b[39;49m\u001b[43mmean\u001b[49m\u001b[43m(\u001b[49m\u001b[43m)\u001b[49m\u001b[43m,\u001b[49m\u001b[43m \u001b[49m\u001b[43mcolumns\u001b[49m\u001b[38;5;241;43m=\u001b[39;49m\u001b[43m[\u001b[49m\u001b[43m]\u001b[49m\u001b[43m)\u001b[49m\n\u001b[1;32m      4\u001b[0m missing_stats\u001b[38;5;241m.\u001b[39mhead()\n",
      "File \u001b[0;32m~/code/misc/probatus/.venv/lib/python3.9/site-packages/pandas/core/frame.py:785\u001b[0m, in \u001b[0;36mDataFrame.__init__\u001b[0;34m(self, data, index, columns, dtype, copy)\u001b[0m\n\u001b[1;32m    774\u001b[0m         mgr \u001b[38;5;241m=\u001b[39m dict_to_mgr(\n\u001b[1;32m    775\u001b[0m             \u001b[38;5;66;03m# error: Item \"ndarray\" of \"Union[ndarray, Series, Index]\" has no\u001b[39;00m\n\u001b[1;32m    776\u001b[0m             \u001b[38;5;66;03m# attribute \"name\"\u001b[39;00m\n\u001b[0;32m   (...)\u001b[0m\n\u001b[1;32m    782\u001b[0m             copy\u001b[38;5;241m=\u001b[39m_copy,\n\u001b[1;32m    783\u001b[0m         )\n\u001b[1;32m    784\u001b[0m     \u001b[38;5;28;01melse\u001b[39;00m:\n\u001b[0;32m--> 785\u001b[0m         mgr \u001b[38;5;241m=\u001b[39m \u001b[43mndarray_to_mgr\u001b[49m\u001b[43m(\u001b[49m\n\u001b[1;32m    786\u001b[0m \u001b[43m            \u001b[49m\u001b[43mdata\u001b[49m\u001b[43m,\u001b[49m\n\u001b[1;32m    787\u001b[0m \u001b[43m            \u001b[49m\u001b[43mindex\u001b[49m\u001b[43m,\u001b[49m\n\u001b[1;32m    788\u001b[0m \u001b[43m            \u001b[49m\u001b[43mcolumns\u001b[49m\u001b[43m,\u001b[49m\n\u001b[1;32m    789\u001b[0m \u001b[43m            \u001b[49m\u001b[43mdtype\u001b[49m\u001b[38;5;241;43m=\u001b[39;49m\u001b[43mdtype\u001b[49m\u001b[43m,\u001b[49m\n\u001b[1;32m    790\u001b[0m \u001b[43m            \u001b[49m\u001b[43mcopy\u001b[49m\u001b[38;5;241;43m=\u001b[39;49m\u001b[43mcopy\u001b[49m\u001b[43m,\u001b[49m\n\u001b[1;32m    791\u001b[0m \u001b[43m            \u001b[49m\u001b[43mtyp\u001b[49m\u001b[38;5;241;43m=\u001b[39;49m\u001b[43mmanager\u001b[49m\u001b[43m,\u001b[49m\n\u001b[1;32m    792\u001b[0m \u001b[43m        \u001b[49m\u001b[43m)\u001b[49m\n\u001b[1;32m    794\u001b[0m \u001b[38;5;66;03m# For data is list-like, or Iterable (will consume into list)\u001b[39;00m\n\u001b[1;32m    795\u001b[0m \u001b[38;5;28;01melif\u001b[39;00m is_list_like(data):\n",
      "File \u001b[0;32m~/code/misc/probatus/.venv/lib/python3.9/site-packages/pandas/core/internals/construction.py:336\u001b[0m, in \u001b[0;36mndarray_to_mgr\u001b[0;34m(values, index, columns, dtype, copy, typ)\u001b[0m\n\u001b[1;32m    331\u001b[0m \u001b[38;5;66;03m# _prep_ndarraylike ensures that values.ndim == 2 at this point\u001b[39;00m\n\u001b[1;32m    332\u001b[0m index, columns \u001b[38;5;241m=\u001b[39m _get_axes(\n\u001b[1;32m    333\u001b[0m     values\u001b[38;5;241m.\u001b[39mshape[\u001b[38;5;241m0\u001b[39m], values\u001b[38;5;241m.\u001b[39mshape[\u001b[38;5;241m1\u001b[39m], index\u001b[38;5;241m=\u001b[39mindex, columns\u001b[38;5;241m=\u001b[39mcolumns\n\u001b[1;32m    334\u001b[0m )\n\u001b[0;32m--> 336\u001b[0m \u001b[43m_check_values_indices_shape_match\u001b[49m\u001b[43m(\u001b[49m\u001b[43mvalues\u001b[49m\u001b[43m,\u001b[49m\u001b[43m \u001b[49m\u001b[43mindex\u001b[49m\u001b[43m,\u001b[49m\u001b[43m \u001b[49m\u001b[43mcolumns\u001b[49m\u001b[43m)\u001b[49m\n\u001b[1;32m    338\u001b[0m \u001b[38;5;28;01mif\u001b[39;00m typ \u001b[38;5;241m==\u001b[39m \u001b[38;5;124m\"\u001b[39m\u001b[38;5;124marray\u001b[39m\u001b[38;5;124m\"\u001b[39m:\n\u001b[1;32m    339\u001b[0m     \u001b[38;5;28;01mif\u001b[39;00m \u001b[38;5;28missubclass\u001b[39m(values\u001b[38;5;241m.\u001b[39mdtype\u001b[38;5;241m.\u001b[39mtype, \u001b[38;5;28mstr\u001b[39m):\n",
      "File \u001b[0;32m~/code/misc/probatus/.venv/lib/python3.9/site-packages/pandas/core/internals/construction.py:420\u001b[0m, in \u001b[0;36m_check_values_indices_shape_match\u001b[0;34m(values, index, columns)\u001b[0m\n\u001b[1;32m    418\u001b[0m passed \u001b[38;5;241m=\u001b[39m values\u001b[38;5;241m.\u001b[39mshape\n\u001b[1;32m    419\u001b[0m implied \u001b[38;5;241m=\u001b[39m (\u001b[38;5;28mlen\u001b[39m(index), \u001b[38;5;28mlen\u001b[39m(columns))\n\u001b[0;32m--> 420\u001b[0m \u001b[38;5;28;01mraise\u001b[39;00m \u001b[38;5;167;01mValueError\u001b[39;00m(\u001b[38;5;124mf\u001b[39m\u001b[38;5;124m\"\u001b[39m\u001b[38;5;124mShape of passed values is \u001b[39m\u001b[38;5;132;01m{\u001b[39;00mpassed\u001b[38;5;132;01m}\u001b[39;00m\u001b[38;5;124m, indices imply \u001b[39m\u001b[38;5;132;01m{\u001b[39;00mimplied\u001b[38;5;132;01m}\u001b[39;00m\u001b[38;5;124m\"\u001b[39m)\n",
      "\u001b[0;31mValueError\u001b[0m: Shape of passed values is (20, 1), indices imply (20, 0)"
     ]
    }
   ],
   "source": [
    "X_missing = generate_MCAR(X, missing=0.2)\n",
    "missing_stats = pd.DataFrame(X_missing.isnull().mean())\n",
    "\n",
    "missing_stats.head()"
   ]
  },
  {
   "cell_type": "markdown",
   "metadata": {},
   "source": [
    "The data has approximately 20% missing values in each feature."
   ]
  },
  {
   "cell_type": "markdown",
   "metadata": {},
   "source": [
    "## Imputation Strategies"
   ]
  },
  {
   "cell_type": "markdown",
   "metadata": {},
   "source": [
    "Create a dictionary with all the strategies to compare. Also, create a classifier to use for evaluating various strategies.\n",
    "If the model supports handling of missing features by default then the model performance on an unimputed dataset is calculated. You can indicate that the model supports handling missing values by setting the parameter `model_na_support=True`.\n",
    "The model performance against the unimputed dataset can be found in `No Imputation` results."
   ]
  },
  {
   "cell_type": "code",
   "execution_count": 6,
   "metadata": {},
   "outputs": [
    {
     "data": {
      "image/png": "[encoded data removed]",
      "text/plain": [
       "<Figure size 640x480 with 1 Axes>"
      ]
     },
     "metadata": {},
     "output_type": "display_data"
    },
    {
     "name": "stdout",
     "output_type": "stream",
     "text": [
      "[LightGBM] [Info] Number of positive: 802, number of negative: 798\n",
      "[LightGBM] [Info] Auto-choosing col-wise multi-threading, the overhead of testing was 0.001586 seconds.\n",
      "You can set `force_col_wise=true` to remove the overhead.\n",
      "[LightGBM] [Info] Total Bins 5100\n",
      "[LightGBM] [Info] Number of data points in the train set: 1600, number of used features: 20\n",
      "[LightGBM] [Info] [binary:BoostFromScore]: pavg=0.501250 -> initscore=0.005000\n",
      "[LightGBM] [Info] Start training from score 0.005000\n",
      "[LightGBM] [Info] Number of positive: 802, number of negative: 798\n",
      "[LightGBM] [Info] Auto-choosing col-wise multi-threading, the overhead of testing was 0.001841 seconds.\n",
      "You can set `force_col_wise=true` to remove the overhead.\n",
      "[LightGBM] [Info] Total Bins 5100\n",
      "[LightGBM] [Info] Number of data points in the train set: 1600, number of used features: 20\n",
      "[LightGBM] [Info] [binary:BoostFromScore]: pavg=0.501250 -> initscore=0.005000\n",
      "[LightGBM] [Info] Start training from score 0.005000\n",
      "[LightGBM] [Info] Number of positive: 802, number of negative: 798\n",
      "[LightGBM] [Info] Auto-choosing col-wise multi-threading, the overhead of testing was 0.002626 seconds.\n",
      "You can set `force_col_wise=true` to remove the overhead.\n",
      "[LightGBM] [Info] Total Bins 5140\n",
      "[LightGBM] [Info] Number of data points in the train set: 1600, number of used features: 40\n",
      "[LightGBM] [Info] [binary:BoostFromScore]: pavg=0.501250 -> initscore=0.005000\n",
      "[LightGBM] [Info] Start training from score 0.005000\n",
      "[LightGBM] [Info] Number of positive: 802, number of negative: 798\n",
      "[LightGBM] [Info] Auto-choosing col-wise multi-threading, the overhead of testing was 0.002652 seconds.\n",
      "You can set `force_col_wise=true` to remove the overhead.\n",
      "[LightGBM] [Info] Total Bins 5140\n",
      "[LightGBM] [Info] Number of data points in the train set: 1600, number of used features: 40\n",
      "[LightGBM] [Info] [binary:BoostFromScore]: pavg=0.501250 -> initscore=0.005000\n",
      "[LightGBM] [Info] Start training from score 0.005000\n",
      "[LightGBM] [Info] Number of positive: 801, number of negative: 799\n",
      "[LightGBM] [Info] Auto-choosing col-wise multi-threading, the overhead of testing was 0.001545 seconds.\n",
      "You can set `force_col_wise=true` to remove the overhead.\n",
      "[LightGBM] [Info] Total Bins 5100\n",
      "[LightGBM] [Info] Number of data points in the train set: 1600, number of used features: 20\n",
      "[LightGBM] [Info] [binary:BoostFromScore]: pavg=0.500625 -> initscore=0.002500\n",
      "[LightGBM] [Info] Start training from score 0.002500\n",
      "[LightGBM] [Info] Number of positive: 802, number of negative: 798\n",
      "[LightGBM] [Info] Auto-choosing row-wise multi-threading, the overhead of testing was 0.000924 seconds.\n",
      "You can set `force_row_wise=true` to remove the overhead.\n",
      "And if memory is not enough, you can set `force_col_wise=true`.\n",
      "[LightGBM] [Info] Total Bins 5140\n",
      "[LightGBM] [Info] Number of data points in the train set: 1600, number of used features: 40\n",
      "[LightGBM] [Info] [binary:BoostFromScore]: pavg=0.501250 -> initscore=0.005000\n",
      "[LightGBM] [Info] Start training from score 0.005000\n",
      "[LightGBM] [Info] Number of positive: 801, number of negative: 799\n",
      "[LightGBM] [Info] Auto-choosing col-wise multi-threading, the overhead of testing was 0.001942 seconds.\n",
      "You can set `force_col_wise=true` to remove the overhead.\n",
      "[LightGBM] [Info] Total Bins 5140\n",
      "[LightGBM] [Info] Number of data points in the train set: 1600, number of used features: 40\n",
      "[LightGBM] [Info] [binary:BoostFromScore]: pavg=0.500625 -> initscore=0.002500\n",
      "[LightGBM] [Info] Start training from score 0.002500\n",
      "[LightGBM] [Info] Number of positive: 802, number of negative: 798\n",
      "[LightGBM] [Info] Auto-choosing col-wise multi-threading, the overhead of testing was 0.002027 seconds.\n",
      "You can set `force_col_wise=true` to remove the overhead.\n",
      "[LightGBM] [Info] Total Bins 5140\n",
      "[LightGBM] [Info] Number of data points in the train set: 1600, number of used features: 40\n",
      "[LightGBM] [Info] [binary:BoostFromScore]: pavg=0.501250 -> initscore=0.005000\n",
      "[LightGBM] [Info] Start training from score 0.005000\n",
      "[LightGBM] [Info] Number of positive: 802, number of negative: 798\n",
      "[LightGBM] [Info] Auto-choosing col-wise multi-threading, the overhead of testing was 0.002191 seconds.\n",
      "You can set `force_col_wise=true` to remove the overhead.\n",
      "[LightGBM] [Info] Total Bins 5140\n",
      "[LightGBM] [Info] Number of data points in the train set: 1600, number of used features: 40\n",
      "[LightGBM] [Info] [binary:BoostFromScore]: pavg=0.501250 -> initscore=0.005000\n",
      "[LightGBM] [Info] Start training from score 0.005000\n",
      "[LightGBM] [Info] Number of positive: 802, number of negative: 798\n",
      "[LightGBM] [Info] Auto-choosing col-wise multi-threading, the overhead of testing was 0.004127 seconds.\n",
      "You can set `force_col_wise=true` to remove the overhead.\n",
      "[LightGBM] [Info] Total Bins 5140\n",
      "[LightGBM] [Info] Number of data points in the train set: 1600, number of used features: 40\n",
      "[LightGBM] [Info] [binary:BoostFromScore]: pavg=0.501250 -> initscore=0.005000\n",
      "[LightGBM] [Info] Start training from score 0.005000\n",
      "[LightGBM] [Info] Number of positive: 802, number of negative: 798\n",
      "[LightGBM] [Info] Auto-choosing col-wise multi-threading, the overhead of testing was 0.002137 seconds.\n",
      "You can set `force_col_wise=true` to remove the overhead.\n",
      "[LightGBM] [Info] Total Bins 5100\n",
      "[LightGBM] [Info] Number of data points in the train set: 1600, number of used features: 20\n",
      "[LightGBM] [Info] [binary:BoostFromScore]: pavg=0.501250 -> initscore=0.005000\n",
      "[LightGBM] [Info] Start training from score 0.005000\n",
      "[LightGBM] [Info] Number of positive: 802, number of negative: 798\n",
      "[LightGBM] [Info] Auto-choosing col-wise multi-threading, the overhead of testing was 0.002240 seconds.\n",
      "You can set `force_col_wise=true` to remove the overhead.\n",
      "[LightGBM] [Info] Total Bins 5100\n",
      "[LightGBM] [Info] Number of data points in the train set: 1600, number of used features: 20\n",
      "[LightGBM] [Info] [binary:BoostFromScore]: pavg=0.501250 -> initscore=0.005000\n",
      "[LightGBM] [Info] Start training from score 0.005000\n",
      "[LightGBM] [Info] Number of positive: 801, number of negative: 799\n",
      "[LightGBM] [Info] Auto-choosing col-wise multi-threading, the overhead of testing was 0.003185 seconds.\n",
      "You can set `force_col_wise=true` to remove the overhead.\n",
      "[LightGBM] [Info] Total Bins 5140\n",
      "[LightGBM] [Info] Number of data points in the train set: 1600, number of used features: 40\n",
      "[LightGBM] [Info] [binary:BoostFromScore]: pavg=0.500625 -> initscore=0.002500\n",
      "[LightGBM] [Info] Start training from score 0.002500\n",
      "[LightGBM] [Info] Number of positive: 801, number of negative: 799\n",
      "[LightGBM] [Info] Auto-choosing col-wise multi-threading, the overhead of testing was 0.002424 seconds.\n",
      "You can set `force_col_wise=true` to remove the overhead.\n",
      "[LightGBM] [Info] Total Bins 5100\n",
      "[LightGBM] [Info] Number of data points in the train set: 1600, number of used features: 20\n",
      "[LightGBM] [Info] [binary:BoostFromScore]: pavg=0.500625 -> initscore=0.002500\n",
      "[LightGBM] [Info] Start training from score 0.002500\n",
      "[LightGBM] [Info] Number of positive: 801, number of negative: 799\n",
      "[LightGBM] [Info] Auto-choosing col-wise multi-threading, the overhead of testing was 0.001955 seconds.\n",
      "You can set `force_col_wise=true` to remove the overhead.\n",
      "[LightGBM] [Info] Total Bins 5100\n",
      "[LightGBM] [Info] Number of data points in the train set: 1600, number of used features: 20\n",
      "[LightGBM] [Info] [binary:BoostFromScore]: pavg=0.500625 -> initscore=0.002500\n",
      "[LightGBM] [Info] Start training from score 0.002500\n",
      "[LightGBM] [Info] Number of positive: 801, number of negative: 799\n",
      "[LightGBM] [Info] Auto-choosing col-wise multi-threading, the overhead of testing was 0.001029 seconds.\n",
      "You can set `force_col_wise=true` to remove the overhead.\n",
      "[LightGBM] [Info] Total Bins 5140\n",
      "[LightGBM] [Info] Number of data points in the train set: 1600, number of used features: 40\n",
      "[LightGBM] [Info] [binary:BoostFromScore]: pavg=0.500625 -> initscore=0.002500\n",
      "[LightGBM] [Info] Start training from score 0.002500\n",
      "[LightGBM] [Info] Number of positive: 802, number of negative: 798\n",
      "[LightGBM] [Info] Auto-choosing col-wise multi-threading, the overhead of testing was 0.002942 seconds.\n",
      "You can set `force_col_wise=true` to remove the overhead.\n",
      "[LightGBM] [Info] Total Bins 5100\n",
      "[LightGBM] [Info] Number of data points in the train set: 1600, number of used features: 20\n",
      "[LightGBM] [Info] [binary:BoostFromScore]: pavg=0.501250 -> initscore=0.005000\n",
      "[LightGBM] [Info] Start training from score 0.005000\n",
      "[LightGBM] [Info] Number of positive: 801, number of negative: 799\n",
      "[LightGBM] [Info] Auto-choosing col-wise multi-threading, the overhead of testing was 0.004613 seconds.\n",
      "You can set `force_col_wise=true` to remove the overhead.\n",
      "[LightGBM] [Info] Total Bins 5140\n",
      "[LightGBM] [Info] Number of data points in the train set: 1600, number of used features: 40\n",
      "[LightGBM] [Info] [binary:BoostFromScore]: pavg=0.500625 -> initscore=0.002500\n",
      "[LightGBM] [Info] Start training from score 0.002500\n",
      "[LightGBM] [Info] Number of positive: 801, number of negative: 799\n",
      "[LightGBM] [Info] Auto-choosing col-wise multi-threading, the overhead of testing was 0.002864 seconds.\n",
      "You can set `force_col_wise=true` to remove the overhead.\n",
      "[LightGBM] [Info] Total Bins 5100\n",
      "[LightGBM] [Info] Number of data points in the train set: 1600, number of used features: 20\n",
      "[LightGBM] [Info] [binary:BoostFromScore]: pavg=0.500625 -> initscore=0.002500\n",
      "[LightGBM] [Info] Start training from score 0.002500\n",
      "[LightGBM] [Info] Number of positive: 802, number of negative: 798\n",
      "[LightGBM] [Info] Auto-choosing col-wise multi-threading, the overhead of testing was 0.000535 seconds.\n",
      "You can set `force_col_wise=true` to remove the overhead.\n",
      "[LightGBM] [Info] Total Bins 5100\n",
      "[LightGBM] [Info] Number of data points in the train set: 1600, number of used features: 20\n",
      "[LightGBM] [Info] [binary:BoostFromScore]: pavg=0.501250 -> initscore=0.005000\n",
      "[LightGBM] [Info] Start training from score 0.005000\n"
     ]
    }
   ],
   "source": [
    "strategies = {\n",
    "    \"KNN Imputer\": KNNImputer(n_neighbors=3),\n",
    "    \"Median Imputer\": SimpleImputer(strategy=\"median\", add_indicator=True),\n",
    "    \"Iterative Imputer\": IterativeImputer(add_indicator=True, n_nearest_features=5, sample_posterior=True),\n",
    "}\n",
    "\n",
    "clf = lgb.LGBMClassifier(n_estimators=2)\n",
    "cmp = ImputationSelector(clf=clf, strategies=strategies, cv=5, random_state=45, model_na_support=True)\n",
    "cmp.fit_compute(X_missing, y)\n",
    "result_plot = cmp.plot()"
   ]
  },
  {
   "cell_type": "markdown",
   "metadata": {},
   "source": [
    "However if the model does not support missing values by default (e.g. `LogisticRegression`), results for only the imputation strategies are calculated. \n"
   ]
  },
  {
   "cell_type": "code",
   "execution_count": null,
   "metadata": {},
   "outputs": [],
   "source": [
    "clf = LogisticRegression()\n",
    "cmp = ImputationSelector(clf=clf, strategies=strategies, cv=5)\n",
    "cmp.fit_compute(X_missing, y)\n",
    "result_plot = cmp.plot()"
   ]
  },
  {
   "cell_type": "markdown",
   "metadata": {},
   "source": [
    "You can also pass a sklearn pipeline instead of a classifier."
   ]
  },
  {
   "cell_type": "code",
   "execution_count": null,
   "metadata": {},
   "outputs": [],
   "source": [
    "from sklearn.pipeline import Pipeline\n",
    "from sklearn.preprocessing import StandardScaler\n",
    "\n",
    "steps = [(\"scaler\", StandardScaler()), (\"LR\", LogisticRegression())]\n",
    "clf = Pipeline(steps)\n",
    "cmp = ImputationSelector(clf=clf, strategies=strategies, cv=5, model_na_support=False)\n",
    "cmp.fit_compute(X_missing, y)\n",
    "result_plot = cmp.plot()"
   ]
  },
  {
   "cell_type": "markdown",
   "metadata": {},
   "source": [
    "## Scikit Learn Compatible Imputers. \n",
    "\n",
    "You can also use any other scikit-learn compatible imputer as an imputing strategy.\n",
    "e.g. [feature engine](https://feature-engine.readthedocs.io/en/latest/index.html) library provides a host of other imputing stratgies as well. You can pass them for comparision as well."
   ]
  }
 ],
 "metadata": {
  "kernelspec": {
   "display_name": "Python 3 (ipykernel)",
   "language": "python",
   "name": "python3"
  },
  "language_info": {
   "codemirror_mode": {
    "name": "ipython",
    "version": 3
   },
   "file_extension": ".py",
   "mimetype": "text/x-python",
   "name": "python",
   "nbconvert_exporter": "python",
   "pygments_lexer": "ipython3",
   "version": "3.9.10"
  }
 },
 "nbformat": 4,
 "nbformat_minor": 4
}
