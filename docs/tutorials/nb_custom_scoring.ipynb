{
 "cells": [
  {
   "cell_type": "markdown",
   "metadata": {},
   "source": [
    "# Custom Scoring Metrics\n",
    "\n",
    "[![open in colab](https://colab.research.google.com/assets/colab-badge.svg)](https://colab.research.google.com/github/ing-bank/probatus/blob/master/docs/tutorials/nb_custom_scoring.ipynb)\n",
    "\n",
    "In many features of probatus, the user can provide the `scoring` parameter. The parameter can be one of the following:\n",
    "\n",
    "- String indicating the scoring metric, one of the [classification scorers names in sklearn](https://scikit-learn.org/stable/modules/model_evaluation.html).\n",
    "- Object of a class Scorer from probatus.utils.Scorer. This object encapsulates the scoring metric name and the scorer used to calculate the model performance.\n",
    "\n",
    "The following tutorial will present how the `scoring` parameter can be used on the example of a Resemblance Model.\n",
    "\n",
    "## Setup\n",
    "\n",
    "Let's prepare some data:"
   ]
  },
  {
   "cell_type": "code",
   "execution_count": null,
   "metadata": {},
   "outputs": [],
   "source": [
    "%%capture\n",
    "!pip install probatus"
   ]
  },
  {
   "cell_type": "code",
   "execution_count": 1,
   "metadata": {},
   "outputs": [],
   "source": [
    "import numpy as np\n",
    "import pandas as pd\n",
    "from sklearn.datasets import make_classification\n",
    "from sklearn.ensemble import RandomForestClassifier\n",
    "from sklearn.metrics import make_scorer\n",
    "\n",
    "from probatus.sample_similarity import SHAPImportanceResemblance\n",
    "from probatus.utils import Scorer\n",
    "\n",
    "# Prepare two samples\n",
    "feature_names = [\"f1\", \"f2\", \"f3\", \"f4\"]\n",
    "X1 = pd.DataFrame(make_classification(n_samples=1000, n_features=4, random_state=0)[0], columns=feature_names)\n",
    "X2 = pd.DataFrame(\n",
    "    make_classification(n_samples=1000, n_features=4, shift=0.5, random_state=0)[0], columns=feature_names\n",
    ")\n",
    "\n",
    "# Prepare model\n",
    "clf = RandomForestClassifier(n_estimators=100, max_depth=2, random_state=0)"
   ]
  },
  {
   "cell_type": "markdown",
   "metadata": {},
   "source": [
    "## Standard metrics\n",
    "\n",
    "Now, we can set the `scoring` parameter as a string:"
   ]
  },
  {
   "cell_type": "code",
   "execution_count": 2,
   "metadata": {},
   "outputs": [
    {
     "name": "stdout",
     "output_type": "stream",
     "text": [
      "Train Accuracy: 0.714,\n",
      "Test Accuracy: 0.706.\n"
     ]
    }
   ],
   "source": [
    "rm = SHAPImportanceResemblance(clf, scoring=\"accuracy\")\n",
    "feature_importance, train_score, test_score = rm.fit_compute(X1, X2, column_names=feature_names, return_scores=True)\n",
    "\n",
    "print(f\"Train Accuracy: {np.round(train_score, 3)},\\n\" f\"Test Accuracy: {np.round(test_score, 3)}.\")"
   ]
  },
  {
   "cell_type": "markdown",
   "metadata": {},
   "source": [
    "## Custom metric"
   ]
  },
  {
   "cell_type": "markdown",
   "metadata": {},
   "source": [
    "Let's make a custom function (in this case accuracy as well), that we want to use for scoring and use it within ShapImportanceResemblance"
   ]
  },
  {
   "cell_type": "code",
   "execution_count": 11,
   "metadata": {},
   "outputs": [
    {
     "name": "stdout",
     "output_type": "stream",
     "text": [
      "Train Score: 0.714,\n",
      "Test Score: 0.706.\n"
     ]
    }
   ],
   "source": [
    "def custom_metric(y_true, y_pred):\n",
    "    return np.sum(y_true == y_pred) / len(y_true)\n",
    "\n",
    "\n",
    "scorer = Scorer(\"custom_metric\", custom_scorer=make_scorer(custom_metric))\n",
    "\n",
    "rm2 = SHAPImportanceResemblance(clf, scoring=scorer)\n",
    "feature_importance2, train_score2, test_score2 = rm2.fit_compute(X1, X2, column_names=feature_names, return_scores=True)\n",
    "\n",
    "print(f\"Train custom_metric: {np.round(train_score2, 3)},\\n\" f\"Test custom_metric: {np.round(test_score2, 3)}.\")"
   ]
  },
  {
   "cell_type": "code",
   "execution_count": 13,
   "metadata": {},
   "outputs": [
    {
     "data": {
      "image/png": "[encoded data removed]",
      "text/plain": [
       "<Figure size 576x223.2 with 1 Axes>"
      ]
     },
     "metadata": {
      "needs_background": "light"
     },
     "output_type": "display_data"
    }
   ],
   "source": [
    "figure = rm2.plot()"
   ]
  }
 ],
 "metadata": {
  "kernelspec": {
   "display_name": "Python 3",
   "language": "python",
   "name": "python3"
  },
  "language_info": {
   "codemirror_mode": {
    "name": "ipython",
    "version": 3
   },
   "file_extension": ".py",
   "mimetype": "text/x-python",
   "name": "python",
   "nbconvert_exporter": "python",
   "pygments_lexer": "ipython3",
   "version": "3.7.4"
  }
 },
 "nbformat": 4,
 "nbformat_minor": 4
}